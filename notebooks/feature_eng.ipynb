{
 "cells": [
  {
   "cell_type": "markdown",
   "source": [
    "# Feature Engineering\n",
    "\n",
    "Placeholder text"
   ],
   "metadata": {
    "collapsed": false
   },
   "id": "918669ad6b0915ca"
  },
  {
   "cell_type": "markdown",
   "source": [
    "### Load Data"
   ],
   "metadata": {
    "collapsed": false
   },
   "id": "fb1a5d36e8a8d9b6"
  },
  {
   "cell_type": "markdown",
   "source": [
    "#### Import Libraries"
   ],
   "metadata": {
    "collapsed": false
   },
   "id": "6707d3efd4ca86f4"
  },
  {
   "cell_type": "code",
   "execution_count": 21,
   "outputs": [],
   "source": [
    "import os\n",
    "\n",
    "import numpy as np\n",
    "import pandas as pd\n",
    "from sklearn.model_selection import train_test_split\n",
    "from sklearn.preprocessing import StandardScaler\n",
    "\n",
    "SEED= 42"
   ],
   "metadata": {
    "collapsed": false,
    "ExecuteTime": {
     "end_time": "2023-12-06T21:41:24.545550300Z",
     "start_time": "2023-12-06T21:41:23.844934300Z"
    }
   },
   "id": "99d0c054d50727ec"
  },
  {
   "cell_type": "code",
   "execution_count": 2,
   "outputs": [],
   "source": [
    "PREPROCESS_DATA_PATH = r\"..\\data\\preprocess\"\n",
    "RECIPES_FILE = \"recipes_eda.parquet\"\n",
    "INTERACTIONS_FILE = \"interactions_eda.parquet\"\n",
    "\n",
    "path_recipes = os.path.join(PREPROCESS_DATA_PATH, RECIPES_FILE)\n",
    "path_interactions = os.path.join(PREPROCESS_DATA_PATH, INTERACTIONS_FILE)\n",
    "\n",
    "recipes = pd.read_parquet(path_recipes, engine='pyarrow')\n",
    "interactions = pd.read_parquet(path_interactions, engine='pyarrow')"
   ],
   "metadata": {
    "collapsed": false,
    "ExecuteTime": {
     "end_time": "2023-12-06T20:30:11.747986Z",
     "start_time": "2023-12-06T20:30:08.469345500Z"
    }
   },
   "id": "37bc582741ea34ed"
  },
  {
   "cell_type": "markdown",
   "source": [
    "Before proceeding, check dataframes for any unexpected behavior during import"
   ],
   "metadata": {
    "collapsed": false
   },
   "id": "3f1ea14ca6771a94"
  },
  {
   "cell_type": "code",
   "execution_count": 3,
   "outputs": [
    {
     "name": "stdout",
     "output_type": "stream",
     "text": [
      "<class 'pandas.core.frame.DataFrame'>\n",
      "RangeIndex: 231636 entries, 0 to 231635\n",
      "Data columns (total 26 columns):\n",
      " #   Column                  Non-Null Count   Dtype         \n",
      "---  ------                  --------------   -----         \n",
      " 0   name                    231635 non-null  object        \n",
      " 1   id                      231636 non-null  int64         \n",
      " 2   minutes                 231636 non-null  int64         \n",
      " 3   contributor_id          231636 non-null  int64         \n",
      " 4   submitted               231636 non-null  datetime64[ns]\n",
      " 5   tags                    231636 non-null  object        \n",
      " 6   n_steps                 231636 non-null  int64         \n",
      " 7   steps                   231636 non-null  object        \n",
      " 8   description             226657 non-null  object        \n",
      " 9   ingredients             231636 non-null  object        \n",
      " 10  n_ingredients           231636 non-null  int64         \n",
      " 11  calories                231636 non-null  float64       \n",
      " 12  total_fat_pdv           231636 non-null  float64       \n",
      " 13  sugar_pdv               231636 non-null  float64       \n",
      " 14  sodium_pdv              231636 non-null  float64       \n",
      " 15  protein_pdv             231636 non-null  float64       \n",
      " 16  saturated_fat_pdv       231636 non-null  float64       \n",
      " 17  carbohydrates_pdv       231636 non-null  float64       \n",
      " 18  average_rating          231636 non-null  float64       \n",
      " 19  interaction_count       231636 non-null  int64         \n",
      " 20  description_word_count  226657 non-null  float64       \n",
      " 21  steps_word_count        231636 non-null  int64         \n",
      " 22  avg_step_word_count     231635 non-null  float64       \n",
      " 23  review_word_count       231629 non-null  float64       \n",
      " 24  review_sentiment        231629 non-null  float64       \n",
      " 25  description_sentiment   226657 non-null  float64       \n",
      "dtypes: datetime64[ns](1), float64(13), int64(7), object(5)\n",
      "memory usage: 45.9+ MB\n",
      "<class 'pandas.core.frame.DataFrame'>\n",
      "Index: 1132365 entries, 0 to 1132366\n",
      "Data columns (total 7 columns):\n",
      " #   Column             Non-Null Count    Dtype         \n",
      "---  ------             --------------    -----         \n",
      " 0   user_id            1132365 non-null  int64         \n",
      " 1   recipe_id          1132365 non-null  int64         \n",
      " 2   date               1132365 non-null  datetime64[ns]\n",
      " 3   rating             1132365 non-null  int64         \n",
      " 4   review             1132196 non-null  object        \n",
      " 5   review_word_count  1132196 non-null  float64       \n",
      " 6   review_sentiment   1132196 non-null  float64       \n",
      "dtypes: datetime64[ns](1), float64(2), int64(3), object(1)\n",
      "memory usage: 69.1+ MB\n"
     ]
    }
   ],
   "source": [
    "# Check schemas\n",
    "recipes.info()\n",
    "interactions.info()"
   ],
   "metadata": {
    "collapsed": false,
    "ExecuteTime": {
     "end_time": "2023-12-06T19:40:38.680561800Z",
     "start_time": "2023-12-06T19:40:38.512726Z"
    }
   },
   "id": "a9598c1d500aa30d"
  },
  {
   "cell_type": "code",
   "execution_count": 6,
   "outputs": [
    {
     "data": {
      "text/plain": "                                         name      id  minutes  \\\n0  arriba   baked winter squash mexican style  137739       55   \n\n   contributor_id  submitted  \\\n0           47892 2005-09-16   \n\n                                                tags  n_steps  \\\n0  [60-minutes-or-less, time-to-make, course, mai...       11   \n\n                                               steps  \\\n0  [make a choice and proceed with recipe, depend...   \n\n                                         description  \\\n0  autumn is my favorite time of year to cook! th...   \n\n                                         ingredients  ...  saturated_fat_pdv  \\\n0  [winter squash, mexican seasoning, mixed spice...  ...                0.0   \n\n   carbohydrates_pdv  average_rating  interaction_count  \\\n0                4.0             5.0                  3   \n\n   description_word_count  steps_word_count  avg_step_word_count  \\\n0                    32.0               135            12.272727   \n\n   review_word_count  review_sentiment  description_sentiment  \n0               44.0          0.333095                0.53125  \n\n[1 rows x 26 columns]",
      "text/html": "<div>\n<style scoped>\n    .dataframe tbody tr th:only-of-type {\n        vertical-align: middle;\n    }\n\n    .dataframe tbody tr th {\n        vertical-align: top;\n    }\n\n    .dataframe thead th {\n        text-align: right;\n    }\n</style>\n<table border=\"1\" class=\"dataframe\">\n  <thead>\n    <tr style=\"text-align: right;\">\n      <th></th>\n      <th>name</th>\n      <th>id</th>\n      <th>minutes</th>\n      <th>contributor_id</th>\n      <th>submitted</th>\n      <th>tags</th>\n      <th>n_steps</th>\n      <th>steps</th>\n      <th>description</th>\n      <th>ingredients</th>\n      <th>...</th>\n      <th>saturated_fat_pdv</th>\n      <th>carbohydrates_pdv</th>\n      <th>average_rating</th>\n      <th>interaction_count</th>\n      <th>description_word_count</th>\n      <th>steps_word_count</th>\n      <th>avg_step_word_count</th>\n      <th>review_word_count</th>\n      <th>review_sentiment</th>\n      <th>description_sentiment</th>\n    </tr>\n  </thead>\n  <tbody>\n    <tr>\n      <th>0</th>\n      <td>arriba   baked winter squash mexican style</td>\n      <td>137739</td>\n      <td>55</td>\n      <td>47892</td>\n      <td>2005-09-16</td>\n      <td>[60-minutes-or-less, time-to-make, course, mai...</td>\n      <td>11</td>\n      <td>[make a choice and proceed with recipe, depend...</td>\n      <td>autumn is my favorite time of year to cook! th...</td>\n      <td>[winter squash, mexican seasoning, mixed spice...</td>\n      <td>...</td>\n      <td>0.0</td>\n      <td>4.0</td>\n      <td>5.0</td>\n      <td>3</td>\n      <td>32.0</td>\n      <td>135</td>\n      <td>12.272727</td>\n      <td>44.0</td>\n      <td>0.333095</td>\n      <td>0.53125</td>\n    </tr>\n  </tbody>\n</table>\n<p>1 rows × 26 columns</p>\n</div>"
     },
     "execution_count": 6,
     "metadata": {},
     "output_type": "execute_result"
    }
   ],
   "source": [
    "# Check first entry of both dataframes\n",
    "recipes.head(1)"
   ],
   "metadata": {
    "collapsed": false,
    "ExecuteTime": {
     "end_time": "2023-12-05T22:45:12.831669600Z",
     "start_time": "2023-12-05T22:45:12.794337600Z"
    }
   },
   "id": "517ed6c623df1167"
  },
  {
   "cell_type": "code",
   "execution_count": 5,
   "outputs": [
    {
     "data": {
      "text/plain": "   user_id  recipe_id       date  rating  \\\n0    38094      40893 2003-02-17       4   \n\n                                              review  review_word_count  \\\n0  Great with a salad. Cooked on top of stove for...               27.0   \n\n   review_sentiment  \n0              0.27  ",
      "text/html": "<div>\n<style scoped>\n    .dataframe tbody tr th:only-of-type {\n        vertical-align: middle;\n    }\n\n    .dataframe tbody tr th {\n        vertical-align: top;\n    }\n\n    .dataframe thead th {\n        text-align: right;\n    }\n</style>\n<table border=\"1\" class=\"dataframe\">\n  <thead>\n    <tr style=\"text-align: right;\">\n      <th></th>\n      <th>user_id</th>\n      <th>recipe_id</th>\n      <th>date</th>\n      <th>rating</th>\n      <th>review</th>\n      <th>review_word_count</th>\n      <th>review_sentiment</th>\n    </tr>\n  </thead>\n  <tbody>\n    <tr>\n      <th>0</th>\n      <td>38094</td>\n      <td>40893</td>\n      <td>2003-02-17</td>\n      <td>4</td>\n      <td>Great with a salad. Cooked on top of stove for...</td>\n      <td>27.0</td>\n      <td>0.27</td>\n    </tr>\n  </tbody>\n</table>\n</div>"
     },
     "execution_count": 5,
     "metadata": {},
     "output_type": "execute_result"
    }
   ],
   "source": [
    "interactions.head(1)"
   ],
   "metadata": {
    "collapsed": false,
    "ExecuteTime": {
     "start_time": "2023-12-05T22:44:45.438629100Z"
    }
   },
   "id": "a35c0e08b62080d2"
  },
  {
   "cell_type": "code",
   "execution_count": 7,
   "outputs": [
    {
     "data": {
      "text/plain": "                  id        minutes  contributor_id  \\\ncount  231636.000000  231636.000000    2.316360e+05   \nmean   222013.733539     123.107721    5.534907e+06   \nmin        38.000000       0.000000    2.700000e+01   \n25%     99943.750000      20.000000    5.690500e+04   \n50%    207248.500000      40.000000    1.736140e+05   \n75%    333815.250000      65.000000    3.982750e+05   \nmax    537716.000000  288000.000000    2.002290e+09   \nstd    141206.160005    1977.763646    9.979162e+07   \n\n                           submitted        n_steps  n_ingredients  \\\ncount                         231636  231636.000000  231636.000000   \nmean   2006-11-14 01:49:00.537740288       9.765503       9.051184   \nmin              1999-08-06 00:00:00       0.000000       1.000000   \n25%              2004-09-16 00:00:00       6.000000       6.000000   \n50%              2007-01-23 00:00:00       9.000000       9.000000   \n75%              2008-10-29 00:00:00      12.000000      11.000000   \nmax              2018-12-04 00:00:00     145.000000      43.000000   \nstd                              NaN       5.995141       3.734775   \n\n            calories  total_fat_pdv      sugar_pdv     sodium_pdv  ...  \\\ncount  231636.000000  231636.000000  231636.000000  231636.000000  ...   \nmean      473.942712      36.080609      84.297013      30.147611  ...   \nmin         0.000000       0.000000       0.000000       0.000000  ...   \n25%       174.375000       8.000000       9.000000       5.000000  ...   \n50%       313.400000      20.000000      25.000000      14.000000  ...   \n75%       519.725000      41.000000      68.000000      33.000000  ...   \nmax    434360.200000   17183.000000  362729.000000   29338.000000  ...   \nstd      1189.713934      77.798996     800.082621     131.961860  ...   \n\n       saturated_fat_pdv  carbohydrates_pdv  average_rating  \\\ncount      231636.000000      231636.000000   231636.000000   \nmean           45.588851          15.560448        4.346243   \nmin             0.000000           0.000000        0.000000   \n25%             7.000000           4.000000        4.000000   \n50%            23.000000           9.000000        4.714286   \n75%            52.000000          16.000000        5.000000   \nmax         10395.000000       36098.000000        5.000000   \nstd            98.235864          81.824733        0.990808   \n\n       interaction_count  description_word_count  steps_word_count  \\\ncount      231636.000000           226657.000000     231636.000000   \nmean            4.888554               36.385689        102.081455   \nmin             1.000000                0.000000          0.000000   \n25%             1.000000               15.000000         54.000000   \n50%             2.000000               28.000000         86.000000   \n75%             4.000000               48.000000        130.000000   \nmax          1613.000000             1168.000000       2246.000000   \nstd            17.532518               32.226114         73.948741   \n\n       avg_step_word_count  review_word_count  review_sentiment  \\\ncount        231635.000000      231629.000000     231629.000000   \nmean             10.422034          53.680937          0.323601   \nmin               1.000000           1.000000         -1.000000   \n25%               8.000000          35.272727          0.226481   \n50%              10.000000          49.000000          0.321094   \n75%              12.250000          65.500000          0.413244   \nmax             150.000000         784.000000          1.000000   \nstd               3.526212          30.019055          0.173436   \n\n       description_sentiment  \ncount          226657.000000  \nmean                0.281319  \nmin                -1.000000  \n25%                 0.074242  \n50%                 0.266667  \n75%                 0.448611  \nmax                 1.000000  \nstd                 0.271146  \n\n[8 rows x 21 columns]",
      "text/html": "<div>\n<style scoped>\n    .dataframe tbody tr th:only-of-type {\n        vertical-align: middle;\n    }\n\n    .dataframe tbody tr th {\n        vertical-align: top;\n    }\n\n    .dataframe thead th {\n        text-align: right;\n    }\n</style>\n<table border=\"1\" class=\"dataframe\">\n  <thead>\n    <tr style=\"text-align: right;\">\n      <th></th>\n      <th>id</th>\n      <th>minutes</th>\n      <th>contributor_id</th>\n      <th>submitted</th>\n      <th>n_steps</th>\n      <th>n_ingredients</th>\n      <th>calories</th>\n      <th>total_fat_pdv</th>\n      <th>sugar_pdv</th>\n      <th>sodium_pdv</th>\n      <th>...</th>\n      <th>saturated_fat_pdv</th>\n      <th>carbohydrates_pdv</th>\n      <th>average_rating</th>\n      <th>interaction_count</th>\n      <th>description_word_count</th>\n      <th>steps_word_count</th>\n      <th>avg_step_word_count</th>\n      <th>review_word_count</th>\n      <th>review_sentiment</th>\n      <th>description_sentiment</th>\n    </tr>\n  </thead>\n  <tbody>\n    <tr>\n      <th>count</th>\n      <td>231636.000000</td>\n      <td>231636.000000</td>\n      <td>2.316360e+05</td>\n      <td>231636</td>\n      <td>231636.000000</td>\n      <td>231636.000000</td>\n      <td>231636.000000</td>\n      <td>231636.000000</td>\n      <td>231636.000000</td>\n      <td>231636.000000</td>\n      <td>...</td>\n      <td>231636.000000</td>\n      <td>231636.000000</td>\n      <td>231636.000000</td>\n      <td>231636.000000</td>\n      <td>226657.000000</td>\n      <td>231636.000000</td>\n      <td>231635.000000</td>\n      <td>231629.000000</td>\n      <td>231629.000000</td>\n      <td>226657.000000</td>\n    </tr>\n    <tr>\n      <th>mean</th>\n      <td>222013.733539</td>\n      <td>123.107721</td>\n      <td>5.534907e+06</td>\n      <td>2006-11-14 01:49:00.537740288</td>\n      <td>9.765503</td>\n      <td>9.051184</td>\n      <td>473.942712</td>\n      <td>36.080609</td>\n      <td>84.297013</td>\n      <td>30.147611</td>\n      <td>...</td>\n      <td>45.588851</td>\n      <td>15.560448</td>\n      <td>4.346243</td>\n      <td>4.888554</td>\n      <td>36.385689</td>\n      <td>102.081455</td>\n      <td>10.422034</td>\n      <td>53.680937</td>\n      <td>0.323601</td>\n      <td>0.281319</td>\n    </tr>\n    <tr>\n      <th>min</th>\n      <td>38.000000</td>\n      <td>0.000000</td>\n      <td>2.700000e+01</td>\n      <td>1999-08-06 00:00:00</td>\n      <td>0.000000</td>\n      <td>1.000000</td>\n      <td>0.000000</td>\n      <td>0.000000</td>\n      <td>0.000000</td>\n      <td>0.000000</td>\n      <td>...</td>\n      <td>0.000000</td>\n      <td>0.000000</td>\n      <td>0.000000</td>\n      <td>1.000000</td>\n      <td>0.000000</td>\n      <td>0.000000</td>\n      <td>1.000000</td>\n      <td>1.000000</td>\n      <td>-1.000000</td>\n      <td>-1.000000</td>\n    </tr>\n    <tr>\n      <th>25%</th>\n      <td>99943.750000</td>\n      <td>20.000000</td>\n      <td>5.690500e+04</td>\n      <td>2004-09-16 00:00:00</td>\n      <td>6.000000</td>\n      <td>6.000000</td>\n      <td>174.375000</td>\n      <td>8.000000</td>\n      <td>9.000000</td>\n      <td>5.000000</td>\n      <td>...</td>\n      <td>7.000000</td>\n      <td>4.000000</td>\n      <td>4.000000</td>\n      <td>1.000000</td>\n      <td>15.000000</td>\n      <td>54.000000</td>\n      <td>8.000000</td>\n      <td>35.272727</td>\n      <td>0.226481</td>\n      <td>0.074242</td>\n    </tr>\n    <tr>\n      <th>50%</th>\n      <td>207248.500000</td>\n      <td>40.000000</td>\n      <td>1.736140e+05</td>\n      <td>2007-01-23 00:00:00</td>\n      <td>9.000000</td>\n      <td>9.000000</td>\n      <td>313.400000</td>\n      <td>20.000000</td>\n      <td>25.000000</td>\n      <td>14.000000</td>\n      <td>...</td>\n      <td>23.000000</td>\n      <td>9.000000</td>\n      <td>4.714286</td>\n      <td>2.000000</td>\n      <td>28.000000</td>\n      <td>86.000000</td>\n      <td>10.000000</td>\n      <td>49.000000</td>\n      <td>0.321094</td>\n      <td>0.266667</td>\n    </tr>\n    <tr>\n      <th>75%</th>\n      <td>333815.250000</td>\n      <td>65.000000</td>\n      <td>3.982750e+05</td>\n      <td>2008-10-29 00:00:00</td>\n      <td>12.000000</td>\n      <td>11.000000</td>\n      <td>519.725000</td>\n      <td>41.000000</td>\n      <td>68.000000</td>\n      <td>33.000000</td>\n      <td>...</td>\n      <td>52.000000</td>\n      <td>16.000000</td>\n      <td>5.000000</td>\n      <td>4.000000</td>\n      <td>48.000000</td>\n      <td>130.000000</td>\n      <td>12.250000</td>\n      <td>65.500000</td>\n      <td>0.413244</td>\n      <td>0.448611</td>\n    </tr>\n    <tr>\n      <th>max</th>\n      <td>537716.000000</td>\n      <td>288000.000000</td>\n      <td>2.002290e+09</td>\n      <td>2018-12-04 00:00:00</td>\n      <td>145.000000</td>\n      <td>43.000000</td>\n      <td>434360.200000</td>\n      <td>17183.000000</td>\n      <td>362729.000000</td>\n      <td>29338.000000</td>\n      <td>...</td>\n      <td>10395.000000</td>\n      <td>36098.000000</td>\n      <td>5.000000</td>\n      <td>1613.000000</td>\n      <td>1168.000000</td>\n      <td>2246.000000</td>\n      <td>150.000000</td>\n      <td>784.000000</td>\n      <td>1.000000</td>\n      <td>1.000000</td>\n    </tr>\n    <tr>\n      <th>std</th>\n      <td>141206.160005</td>\n      <td>1977.763646</td>\n      <td>9.979162e+07</td>\n      <td>NaN</td>\n      <td>5.995141</td>\n      <td>3.734775</td>\n      <td>1189.713934</td>\n      <td>77.798996</td>\n      <td>800.082621</td>\n      <td>131.961860</td>\n      <td>...</td>\n      <td>98.235864</td>\n      <td>81.824733</td>\n      <td>0.990808</td>\n      <td>17.532518</td>\n      <td>32.226114</td>\n      <td>73.948741</td>\n      <td>3.526212</td>\n      <td>30.019055</td>\n      <td>0.173436</td>\n      <td>0.271146</td>\n    </tr>\n  </tbody>\n</table>\n<p>8 rows × 21 columns</p>\n</div>"
     },
     "execution_count": 7,
     "metadata": {},
     "output_type": "execute_result"
    }
   ],
   "source": [
    "# Summary statistics, counts of recipe dataframe\n",
    "recipes.describe()"
   ],
   "metadata": {
    "collapsed": false,
    "ExecuteTime": {
     "end_time": "2023-12-05T22:48:34.742187200Z",
     "start_time": "2023-12-05T22:48:34.560528600Z"
    }
   },
   "id": "4b6b38d616171fd7"
  },
  {
   "cell_type": "code",
   "execution_count": 8,
   "outputs": [
    {
     "data": {
      "text/plain": "            user_id     recipe_id                           date  \\\ncount  1.132365e+06  1.132365e+06                        1132365   \nmean   1.384293e+08  1.608967e+05  2009-05-13 02:55:54.951450880   \nmin    1.533000e+03  3.800000e+01            2000-01-25 00:00:00   \n25%    1.354700e+05  5.425700e+04            2007-03-11 00:00:00   \n50%    3.309370e+05  1.205470e+05            2008-12-29 00:00:00   \n75%    8.045500e+05  2.438500e+05            2011-03-07 00:00:00   \nmax    2.002373e+09  5.377160e+05            2018-12-20 00:00:00   \nstd    5.014273e+08  1.303983e+05                            NaN   \n\n             rating  review_word_count  review_sentiment  \ncount  1.132365e+06       1.132196e+06      1.132196e+06  \nmean   4.411015e+00       5.202219e+01      3.329295e-01  \nmin    0.000000e+00       0.000000e+00     -1.000000e+00  \n25%    4.000000e+00       2.700000e+01      1.919227e-01  \n50%    5.000000e+00       4.400000e+01      3.185185e-01  \n75%    5.000000e+00       6.700000e+01      4.611827e-01  \nmax    5.000000e+00       1.182000e+03      1.000000e+00  \nstd    1.264753e+00       3.714006e+01      2.296309e-01  ",
      "text/html": "<div>\n<style scoped>\n    .dataframe tbody tr th:only-of-type {\n        vertical-align: middle;\n    }\n\n    .dataframe tbody tr th {\n        vertical-align: top;\n    }\n\n    .dataframe thead th {\n        text-align: right;\n    }\n</style>\n<table border=\"1\" class=\"dataframe\">\n  <thead>\n    <tr style=\"text-align: right;\">\n      <th></th>\n      <th>user_id</th>\n      <th>recipe_id</th>\n      <th>date</th>\n      <th>rating</th>\n      <th>review_word_count</th>\n      <th>review_sentiment</th>\n    </tr>\n  </thead>\n  <tbody>\n    <tr>\n      <th>count</th>\n      <td>1.132365e+06</td>\n      <td>1.132365e+06</td>\n      <td>1132365</td>\n      <td>1.132365e+06</td>\n      <td>1.132196e+06</td>\n      <td>1.132196e+06</td>\n    </tr>\n    <tr>\n      <th>mean</th>\n      <td>1.384293e+08</td>\n      <td>1.608967e+05</td>\n      <td>2009-05-13 02:55:54.951450880</td>\n      <td>4.411015e+00</td>\n      <td>5.202219e+01</td>\n      <td>3.329295e-01</td>\n    </tr>\n    <tr>\n      <th>min</th>\n      <td>1.533000e+03</td>\n      <td>3.800000e+01</td>\n      <td>2000-01-25 00:00:00</td>\n      <td>0.000000e+00</td>\n      <td>0.000000e+00</td>\n      <td>-1.000000e+00</td>\n    </tr>\n    <tr>\n      <th>25%</th>\n      <td>1.354700e+05</td>\n      <td>5.425700e+04</td>\n      <td>2007-03-11 00:00:00</td>\n      <td>4.000000e+00</td>\n      <td>2.700000e+01</td>\n      <td>1.919227e-01</td>\n    </tr>\n    <tr>\n      <th>50%</th>\n      <td>3.309370e+05</td>\n      <td>1.205470e+05</td>\n      <td>2008-12-29 00:00:00</td>\n      <td>5.000000e+00</td>\n      <td>4.400000e+01</td>\n      <td>3.185185e-01</td>\n    </tr>\n    <tr>\n      <th>75%</th>\n      <td>8.045500e+05</td>\n      <td>2.438500e+05</td>\n      <td>2011-03-07 00:00:00</td>\n      <td>5.000000e+00</td>\n      <td>6.700000e+01</td>\n      <td>4.611827e-01</td>\n    </tr>\n    <tr>\n      <th>max</th>\n      <td>2.002373e+09</td>\n      <td>5.377160e+05</td>\n      <td>2018-12-20 00:00:00</td>\n      <td>5.000000e+00</td>\n      <td>1.182000e+03</td>\n      <td>1.000000e+00</td>\n    </tr>\n    <tr>\n      <th>std</th>\n      <td>5.014273e+08</td>\n      <td>1.303983e+05</td>\n      <td>NaN</td>\n      <td>1.264753e+00</td>\n      <td>3.714006e+01</td>\n      <td>2.296309e-01</td>\n    </tr>\n  </tbody>\n</table>\n</div>"
     },
     "execution_count": 8,
     "metadata": {},
     "output_type": "execute_result"
    }
   ],
   "source": [
    "# Same for interactions\n",
    "interactions.describe()"
   ],
   "metadata": {
    "collapsed": false,
    "ExecuteTime": {
     "end_time": "2023-12-05T22:48:55.000154500Z",
     "start_time": "2023-12-05T22:48:54.803844300Z"
    }
   },
   "id": "aeb695a8f6c5cb3"
  },
  {
   "cell_type": "code",
   "execution_count": 13,
   "outputs": [
    {
     "data": {
      "text/plain": "name                         1\nid                           0\nminutes                      0\ncontributor_id               0\nsubmitted                    0\ntags                         0\nn_steps                      0\nsteps                        0\ndescription               4979\ningredients                  0\nn_ingredients                0\ncalories                     0\ntotal_fat_pdv                0\nsugar_pdv                    0\nsodium_pdv                   0\nprotein_pdv                  0\nsaturated_fat_pdv            0\ncarbohydrates_pdv            0\naverage_rating               0\ninteraction_count            0\ndescription_word_count    4979\nsteps_word_count             0\navg_step_word_count          1\nreview_word_count            7\nreview_sentiment             7\ndescription_sentiment     4979\ndtype: int64"
     },
     "execution_count": 13,
     "metadata": {},
     "output_type": "execute_result"
    }
   ],
   "source": [
    "# Check for nulls in recipes\n",
    "recipes.isnull().sum()"
   ],
   "metadata": {
    "collapsed": false,
    "ExecuteTime": {
     "end_time": "2023-12-05T22:50:52.428006400Z",
     "start_time": "2023-12-05T22:50:52.369800Z"
    }
   },
   "id": "92e33b7f26a7256b"
  },
  {
   "cell_type": "code",
   "execution_count": 14,
   "outputs": [
    {
     "data": {
      "text/plain": "user_id                0\nrecipe_id              0\ndate                   0\nrating                 0\nreview               169\nreview_word_count    169\nreview_sentiment     169\ndtype: int64"
     },
     "execution_count": 14,
     "metadata": {},
     "output_type": "execute_result"
    }
   ],
   "source": [
    "# Check nulls in interactions\n",
    "interactions.isnull().sum()"
   ],
   "metadata": {
    "collapsed": false,
    "ExecuteTime": {
     "end_time": "2023-12-05T22:51:24.394448900Z",
     "start_time": "2023-12-05T22:51:24.293343100Z"
    }
   },
   "id": "118e2ca743bed02a"
  },
  {
   "cell_type": "markdown",
   "source": [
    "### Baseline Features and Models"
   ],
   "metadata": {
    "collapsed": false
   },
   "id": "68b6075b56e23364"
  },
  {
   "cell_type": "code",
   "execution_count": 3,
   "outputs": [],
   "source": [
    "# Select subset of original columns\n",
    "item_features = recipes[[\"minutes\", \"submitted\", \"tags\", \"n_steps\", \"ingredients\", \"n_ingredients\", \"calories\", \"total_fat_pdv\", \"sugar_pdv\", \"sodium_pdv\", \"protein_pdv\", \"saturated_fat_pdv\", \"carbohydrates_pdv\"]].copy()"
   ],
   "metadata": {
    "collapsed": false,
    "ExecuteTime": {
     "end_time": "2023-12-06T20:30:16.901750900Z",
     "start_time": "2023-12-06T20:30:16.870433300Z"
    }
   },
   "id": "98945c26848fb289"
  },
  {
   "cell_type": "code",
   "execution_count": 16,
   "outputs": [
    {
     "name": "stdout",
     "output_type": "stream",
     "text": [
      "<class 'pandas.core.frame.DataFrame'>\n",
      "RangeIndex: 231636 entries, 0 to 231635\n",
      "Data columns (total 14 columns):\n",
      " #   Column             Non-Null Count   Dtype         \n",
      "---  ------             --------------   -----         \n",
      " 0   id                 231636 non-null  int64         \n",
      " 1   minutes            231636 non-null  int64         \n",
      " 2   submitted          231636 non-null  datetime64[ns]\n",
      " 3   tags               231636 non-null  object        \n",
      " 4   n_steps            231636 non-null  int64         \n",
      " 5   ingredients        231636 non-null  object        \n",
      " 6   n_ingredients      231636 non-null  int64         \n",
      " 7   calories           231636 non-null  float64       \n",
      " 8   total_fat_pdv      231636 non-null  float64       \n",
      " 9   sugar_pdv          231636 non-null  float64       \n",
      " 10  sodium_pdv         231636 non-null  float64       \n",
      " 11  protein_pdv        231636 non-null  float64       \n",
      " 12  saturated_fat_pdv  231636 non-null  float64       \n",
      " 13  carbohydrates_pdv  231636 non-null  float64       \n",
      "dtypes: datetime64[ns](1), float64(7), int64(4), object(2)\n",
      "memory usage: 24.7+ MB\n"
     ]
    }
   ],
   "source": [
    "item_features.info()"
   ],
   "metadata": {
    "collapsed": false,
    "ExecuteTime": {
     "end_time": "2023-12-05T22:52:58.384268100Z",
     "start_time": "2023-12-05T22:52:58.327496900Z"
    }
   },
   "id": "289191b33049a90c"
  },
  {
   "cell_type": "markdown",
   "source": [
    "#### Temporal Features"
   ],
   "metadata": {
    "collapsed": false
   },
   "id": "2dc0a3d4504777"
  },
  {
   "cell_type": "code",
   "execution_count": 4,
   "outputs": [],
   "source": [
    "# Split date column\n",
    "item_features[\"year\"] = item_features[\"submitted\"].dt.year\n",
    "item_features[\"month\"] = item_features[\"submitted\"].dt.month\n",
    "item_features[\"day\"] = item_features[\"submitted\"].dt.day"
   ],
   "metadata": {
    "collapsed": false,
    "ExecuteTime": {
     "end_time": "2023-12-06T20:30:20.895090300Z",
     "start_time": "2023-12-06T20:30:20.846970200Z"
    }
   },
   "id": "e743cadc8fa5a71c"
  },
  {
   "cell_type": "code",
   "execution_count": 5,
   "outputs": [],
   "source": [
    "item_features[\"month_norm\"] = (2 * np.pi / 12) * item_features[\"month\"]\n",
    "item_features[\"month_sin\"] = np.sin(item_features[\"month_norm\"])\n",
    "item_features[\"month_cos\"] = np.cos(item_features[\"month_norm\"])\n",
    "\n",
    "item_features[\"day_norm\"] = (2 * np.pi / 31) * item_features[\"day\"]\n",
    "item_features[\"day_sin\"] = np.sin(item_features[\"day_norm\"])\n",
    "item_features[\"day_cos\"] = np.cos(item_features[\"day_norm\"])\n",
    "\n",
    "item_features = item_features.drop([\"submitted\", \"month\", \"month_norm\", \"day\", \"day_norm\"], axis=1)"
   ],
   "metadata": {
    "collapsed": false,
    "ExecuteTime": {
     "end_time": "2023-12-06T20:30:21.071871100Z",
     "start_time": "2023-12-06T20:30:21.021646200Z"
    }
   },
   "id": "70e79ffb2c504ac8"
  },
  {
   "cell_type": "markdown",
   "source": [
    "#### One-Hot Encoded Features"
   ],
   "metadata": {
    "collapsed": false
   },
   "id": "790b27eb5df90141"
  },
  {
   "cell_type": "code",
   "execution_count": 6,
   "outputs": [],
   "source": [
    "# Count ingredients\n",
    "recipe_ingredient = item_features[[\"ingredients\"]].explode(\"ingredients\")\n",
    "ingredient_counts = recipe_ingredient.groupby(\"ingredients\").value_counts().reset_index()"
   ],
   "metadata": {
    "collapsed": false,
    "ExecuteTime": {
     "end_time": "2023-12-06T20:30:25.116918700Z",
     "start_time": "2023-12-06T20:30:24.683531700Z"
    }
   },
   "id": "c0e05386f7dfbd50"
  },
  {
   "cell_type": "code",
   "execution_count": 7,
   "outputs": [
    {
     "name": "stdout",
     "output_type": "stream",
     "text": [
      "Number of ingredient features: 2717\n"
     ]
    }
   ],
   "source": [
    "# Filter ingredients by frequency\n",
    "INGREDIENT_THRESHOLD = 50\n",
    "filtered_ingredients = ingredient_counts[ingredient_counts[\"count\"] >= INGREDIENT_THRESHOLD].sort_values(\"count\", ascending=False)[\"ingredients\"]\n",
    "print(f\"Number of ingredient features: {filtered_ingredients.size}\")"
   ],
   "metadata": {
    "collapsed": false,
    "ExecuteTime": {
     "end_time": "2023-12-06T20:30:25.127569100Z",
     "start_time": "2023-12-06T20:30:25.118395200Z"
    }
   },
   "id": "7e05128f883c1c03"
  },
  {
   "cell_type": "code",
   "execution_count": 8,
   "outputs": [],
   "source": [
    "# Filter the exploded dataframe for recipe-ingredient combinations of the top N ingredients\n",
    "recipe_ingredient_filtered = recipe_ingredient[recipe_ingredient[\"ingredients\"].isin(filtered_ingredients)]"
   ],
   "metadata": {
    "collapsed": false,
    "ExecuteTime": {
     "end_time": "2023-12-06T20:30:28.492112100Z",
     "start_time": "2023-12-06T20:30:28.407007900Z"
    }
   },
   "id": "84a12a2cb00325e0"
  },
  {
   "cell_type": "code",
   "execution_count": 9,
   "outputs": [],
   "source": [
    "# Create a binary column for each ingredient (one-hot encoding)\n",
    "recipe_ingredient_pivot = pd.pivot_table(recipe_ingredient_filtered, index=recipe_ingredient_filtered.index, columns=\"ingredients\", aggfunc=lambda x: 1, fill_value=0)"
   ],
   "metadata": {
    "collapsed": false,
    "ExecuteTime": {
     "end_time": "2023-12-06T20:31:58.210401700Z",
     "start_time": "2023-12-06T20:30:29.713043300Z"
    }
   },
   "id": "d44ef2b3f125c41a"
  },
  {
   "cell_type": "code",
   "execution_count": 10,
   "outputs": [],
   "source": [
    "# Left outer join adds back recipes without top ingredients and the original columns, filling null values only in the ingredient columns\n",
    "item_features = item_features.merge(recipe_ingredient_pivot, left_index=True, right_index=True, how=\"left\")\n",
    "item_features[filtered_ingredients] = item_features[filtered_ingredients].fillna(0)\n",
    "item_features[filtered_ingredients] = item_features[filtered_ingredients].astype(int)\n",
    "item_features = item_features.drop(\"ingredients\", axis=1)"
   ],
   "metadata": {
    "collapsed": false,
    "ExecuteTime": {
     "end_time": "2023-12-06T20:32:48.517609500Z",
     "start_time": "2023-12-06T20:31:58.237816500Z"
    }
   },
   "id": "91ee4aeb457e2627"
  },
  {
   "cell_type": "markdown",
   "source": [
    "Repeat the same process for tags"
   ],
   "metadata": {
    "collapsed": false
   },
   "id": "82fd6832400928c3"
  },
  {
   "cell_type": "code",
   "execution_count": 12,
   "outputs": [],
   "source": [
    "recipe_tag = item_features[[\"tags\"]].explode(\"tags\")\n",
    "tag_counts = recipe_tag.groupby(\"tags\").value_counts().reset_index()"
   ],
   "metadata": {
    "collapsed": false,
    "ExecuteTime": {
     "end_time": "2023-12-06T20:38:35.102333400Z",
     "start_time": "2023-12-06T20:38:34.215269800Z"
    }
   },
   "id": "7ca03fbe0cd63940"
  },
  {
   "cell_type": "code",
   "execution_count": 13,
   "outputs": [
    {
     "name": "stdout",
     "output_type": "stream",
     "text": [
      "Number of tag features: 470\n"
     ]
    }
   ],
   "source": [
    "TAG_THRESHOLD = 25\n",
    "filtered_tags = tag_counts[tag_counts[\"count\"] >= TAG_THRESHOLD].sort_values(\"count\", ascending=False)[\"tags\"]\n",
    "print(f\"Number of tag features: {filtered_tags.size}\")"
   ],
   "metadata": {
    "collapsed": false,
    "ExecuteTime": {
     "end_time": "2023-12-06T20:38:35.585865800Z",
     "start_time": "2023-12-06T20:38:35.569359700Z"
    }
   },
   "id": "6d2aaf9ca79f3f65"
  },
  {
   "cell_type": "code",
   "execution_count": 14,
   "outputs": [],
   "source": [
    "recipe_tag_filtered = recipe_tag[recipe_tag[\"tags\"].isin(filtered_tags)]"
   ],
   "metadata": {
    "collapsed": false,
    "ExecuteTime": {
     "end_time": "2023-12-06T20:38:36.539019800Z",
     "start_time": "2023-12-06T20:38:36.381018500Z"
    }
   },
   "id": "380bbe06f2c32e9a"
  },
  {
   "cell_type": "code",
   "execution_count": 15,
   "outputs": [],
   "source": [
    "recipe_tag_pivot = pd.pivot_table(recipe_tag_filtered, index=recipe_tag_filtered.index, columns=\"tags\", aggfunc=lambda x: 1, fill_value=0)"
   ],
   "metadata": {
    "collapsed": false,
    "ExecuteTime": {
     "end_time": "2023-12-06T20:39:37.647605600Z",
     "start_time": "2023-12-06T20:38:37.381385800Z"
    }
   },
   "id": "4036ad0ff05658c6"
  },
  {
   "cell_type": "code",
   "execution_count": 16,
   "outputs": [],
   "source": [
    "item_features = item_features.merge(recipe_tag_pivot, left_index=True, right_index=True, how=\"left\", suffixes=(\"_ing\", \"_tag\"))"
   ],
   "metadata": {
    "collapsed": false,
    "ExecuteTime": {
     "end_time": "2023-12-06T20:39:43.807922800Z",
     "start_time": "2023-12-06T20:39:41.654321300Z"
    }
   },
   "id": "d5f322fe85a738ee"
  },
  {
   "cell_type": "code",
   "execution_count": 17,
   "outputs": [],
   "source": [
    "# Get lists of tag (and ingredient) columns for the case of duplicate columns\n",
    "tag_columns = [tag + \"_tag\" if tag + \"_tag\" in item_features.columns else tag for tag in filtered_tags]\n",
    "ingredient_columns = [ing + \"_ing\" if ing + \"_ing\" in item_features.columns else ing for ing in filtered_ingredients]"
   ],
   "metadata": {
    "collapsed": false,
    "ExecuteTime": {
     "end_time": "2023-12-06T20:39:43.823391800Z",
     "start_time": "2023-12-06T20:39:43.807922800Z"
    }
   },
   "id": "498a1c8647abb5a2"
  },
  {
   "cell_type": "code",
   "execution_count": 18,
   "outputs": [],
   "source": [
    "del recipe_tag_pivot"
   ],
   "metadata": {
    "collapsed": false,
    "ExecuteTime": {
     "end_time": "2023-12-06T20:39:43.860433100Z",
     "start_time": "2023-12-06T20:39:43.823391800Z"
    }
   },
   "id": "df9c78fc940a973d"
  },
  {
   "cell_type": "code",
   "execution_count": 19,
   "outputs": [],
   "source": [
    "item_features[tag_columns] = item_features[tag_columns].fillna(0)\n",
    "item_features[tag_columns] = item_features[tag_columns].astype(int)\n",
    "item_features = item_features.drop(\"tags\", axis=1)"
   ],
   "metadata": {
    "collapsed": false,
    "ExecuteTime": {
     "end_time": "2023-12-06T20:39:57.283174500Z",
     "start_time": "2023-12-06T20:39:52.280624Z"
    }
   },
   "id": "b474d2781278ea3d"
  },
  {
   "cell_type": "markdown",
   "source": [
    "#### Scaled Numeric Features"
   ],
   "metadata": {
    "collapsed": false
   },
   "id": "ab1ae75b9c1cc02e"
  },
  {
   "cell_type": "code",
   "execution_count": 20,
   "outputs": [
    {
     "name": "stdout",
     "output_type": "stream",
     "text": [
      "    minutes  calories  total_fat_pdv  sugar_pdv  sodium_pdv  protein_pdv  \\\n",
      "0  4.025352  3.960813       0.000000   2.639057    0.000000     1.098612   \n",
      "1  3.433987  5.161352       2.944439   0.000000    2.890372     3.135494   \n",
      "2  4.875197  5.601381       3.135494   3.496508    3.891820     3.688879   \n",
      "3  3.828641  5.911068       2.890372   2.397895    1.098612     2.708050   \n",
      "4  5.252273  5.869014       0.693147   5.823046    3.178054     1.386294   \n",
      "\n",
      "   saturated_fat_pdv  carbohydrates_pdv  \n",
      "0           0.000000           1.609438  \n",
      "1           3.583519           0.693147  \n",
      "2           3.332205           1.791759  \n",
      "3           2.197225           3.044522  \n",
      "4           0.000000           3.367296  \n"
     ]
    }
   ],
   "source": [
    "# Log + 1 scaling for skewed features\n",
    "outlier_fields = [\"minutes\", \"calories\", \"total_fat_pdv\", \"sugar_pdv\", \"sodium_pdv\", \"protein_pdv\", \"saturated_fat_pdv\", \"carbohydrates_pdv\"]       # From EDA\n",
    "\n",
    "item_features[outlier_fields] = np.log(item_features[outlier_fields] + 1)"
   ],
   "metadata": {
    "collapsed": false,
    "ExecuteTime": {
     "end_time": "2023-12-06T21:04:02.853866900Z",
     "start_time": "2023-12-06T21:04:02.789919600Z"
    }
   },
   "id": "97a80240dd2cb85c"
  },
  {
   "cell_type": "code",
   "execution_count": 22,
   "outputs": [
    {
     "data": {
      "text/plain": "       id   minutes  n_steps  n_ingredients  calories  total_fat_pdv  \\\n0  137739  4.025352       11              7  3.960813       0.000000   \n1   31490  3.433987        9              6  5.161352       2.944439   \n2  112140  4.875197        6             13  5.601381       3.135494   \n3   59389  3.828641       11             11  5.911068       2.890372   \n4   44061  5.252273        5              8  5.869014       0.693147   \n\n   sugar_pdv  sodium_pdv  protein_pdv  saturated_fat_pdv  ...  whitefish  \\\n0   2.639057    0.000000     1.098612           0.000000  ...          0   \n1   0.000000    2.890372     3.135494           3.583519  ...          0   \n2   3.496508    3.891820     3.688879           3.332205  ...          0   \n3   2.397895    1.098612     2.708050           2.197225  ...          0   \n4   5.823046    3.178054     1.386294           0.000000  ...          0   \n\n   whole-chicken  whole-duck  whole-turkey  wild-game  wings  winter  \\\n0              0           0             0          0      0       1   \n1              0           0             0          0      0       0   \n2              0           0             0          0      0       0   \n3              0           0             0          0      0       0   \n4              0           0             0          0      0       0   \n\n   yams-sweet-potatoes  yeast_tag  zucchini_tag  \n0                    0          0             0  \n1                    0          0             0  \n2                    0          0             0  \n3                    0          0             0  \n4                    0          0             0  \n\n[5 rows x 3203 columns]",
      "text/html": "<div>\n<style scoped>\n    .dataframe tbody tr th:only-of-type {\n        vertical-align: middle;\n    }\n\n    .dataframe tbody tr th {\n        vertical-align: top;\n    }\n\n    .dataframe thead th {\n        text-align: right;\n    }\n</style>\n<table border=\"1\" class=\"dataframe\">\n  <thead>\n    <tr style=\"text-align: right;\">\n      <th></th>\n      <th>id</th>\n      <th>minutes</th>\n      <th>n_steps</th>\n      <th>n_ingredients</th>\n      <th>calories</th>\n      <th>total_fat_pdv</th>\n      <th>sugar_pdv</th>\n      <th>sodium_pdv</th>\n      <th>protein_pdv</th>\n      <th>saturated_fat_pdv</th>\n      <th>...</th>\n      <th>whitefish</th>\n      <th>whole-chicken</th>\n      <th>whole-duck</th>\n      <th>whole-turkey</th>\n      <th>wild-game</th>\n      <th>wings</th>\n      <th>winter</th>\n      <th>yams-sweet-potatoes</th>\n      <th>yeast_tag</th>\n      <th>zucchini_tag</th>\n    </tr>\n  </thead>\n  <tbody>\n    <tr>\n      <th>0</th>\n      <td>137739</td>\n      <td>4.025352</td>\n      <td>11</td>\n      <td>7</td>\n      <td>3.960813</td>\n      <td>0.000000</td>\n      <td>2.639057</td>\n      <td>0.000000</td>\n      <td>1.098612</td>\n      <td>0.000000</td>\n      <td>...</td>\n      <td>0</td>\n      <td>0</td>\n      <td>0</td>\n      <td>0</td>\n      <td>0</td>\n      <td>0</td>\n      <td>1</td>\n      <td>0</td>\n      <td>0</td>\n      <td>0</td>\n    </tr>\n    <tr>\n      <th>1</th>\n      <td>31490</td>\n      <td>3.433987</td>\n      <td>9</td>\n      <td>6</td>\n      <td>5.161352</td>\n      <td>2.944439</td>\n      <td>0.000000</td>\n      <td>2.890372</td>\n      <td>3.135494</td>\n      <td>3.583519</td>\n      <td>...</td>\n      <td>0</td>\n      <td>0</td>\n      <td>0</td>\n      <td>0</td>\n      <td>0</td>\n      <td>0</td>\n      <td>0</td>\n      <td>0</td>\n      <td>0</td>\n      <td>0</td>\n    </tr>\n    <tr>\n      <th>2</th>\n      <td>112140</td>\n      <td>4.875197</td>\n      <td>6</td>\n      <td>13</td>\n      <td>5.601381</td>\n      <td>3.135494</td>\n      <td>3.496508</td>\n      <td>3.891820</td>\n      <td>3.688879</td>\n      <td>3.332205</td>\n      <td>...</td>\n      <td>0</td>\n      <td>0</td>\n      <td>0</td>\n      <td>0</td>\n      <td>0</td>\n      <td>0</td>\n      <td>0</td>\n      <td>0</td>\n      <td>0</td>\n      <td>0</td>\n    </tr>\n    <tr>\n      <th>3</th>\n      <td>59389</td>\n      <td>3.828641</td>\n      <td>11</td>\n      <td>11</td>\n      <td>5.911068</td>\n      <td>2.890372</td>\n      <td>2.397895</td>\n      <td>1.098612</td>\n      <td>2.708050</td>\n      <td>2.197225</td>\n      <td>...</td>\n      <td>0</td>\n      <td>0</td>\n      <td>0</td>\n      <td>0</td>\n      <td>0</td>\n      <td>0</td>\n      <td>0</td>\n      <td>0</td>\n      <td>0</td>\n      <td>0</td>\n    </tr>\n    <tr>\n      <th>4</th>\n      <td>44061</td>\n      <td>5.252273</td>\n      <td>5</td>\n      <td>8</td>\n      <td>5.869014</td>\n      <td>0.693147</td>\n      <td>5.823046</td>\n      <td>3.178054</td>\n      <td>1.386294</td>\n      <td>0.000000</td>\n      <td>...</td>\n      <td>0</td>\n      <td>0</td>\n      <td>0</td>\n      <td>0</td>\n      <td>0</td>\n      <td>0</td>\n      <td>0</td>\n      <td>0</td>\n      <td>0</td>\n      <td>0</td>\n    </tr>\n  </tbody>\n</table>\n<p>5 rows × 3203 columns</p>\n</div>"
     },
     "execution_count": 22,
     "metadata": {},
     "output_type": "execute_result"
    }
   ],
   "source": [
    "item_features.head()"
   ],
   "metadata": {
    "collapsed": false,
    "ExecuteTime": {
     "end_time": "2023-12-06T22:26:52.019410500Z",
     "start_time": "2023-12-06T22:26:51.987555500Z"
    }
   },
   "id": "805eca74121d0aa1"
  },
  {
   "cell_type": "code",
   "execution_count": 25,
   "outputs": [],
   "source": [
    "# Split the DataFrame, store indices\n",
    "item_features_train, item_features_temp = train_test_split(item_features, test_size=0.3, random_state=SEED)\n",
    "item_features_val, item_features_test = train_test_split(item_features_temp, test_size=0.5, random_state=SEED)\n",
    "\n",
    "indices_train = item_features_train.index\n",
    "indices_val = item_features_val.index\n",
    "indices_test = item_features_test.index"
   ],
   "metadata": {
    "collapsed": false,
    "ExecuteTime": {
     "end_time": "2023-12-06T22:47:37.936718700Z",
     "start_time": "2023-12-06T22:47:29.096253300Z"
    }
   },
   "id": "12a9c31b689c324f"
  },
  {
   "cell_type": "code",
   "execution_count": 27,
   "outputs": [],
   "source": [
    "# Standard scale numerical features\n",
    "numeric_fields = outlier_fields + [\"n_steps\", \"n_ingredients\", \"year\"]\n",
    "\n",
    "scaler = StandardScaler()\n",
    "item_features_train[numeric_fields] = scaler.fit_transform(item_features_train[numeric_fields])\n",
    "item_features_val[numeric_fields] = scaler.transform(item_features_val[numeric_fields])\n",
    "item_features_test[numeric_fields] = scaler.transform(item_features_test[numeric_fields])"
   ],
   "metadata": {
    "collapsed": false,
    "ExecuteTime": {
     "end_time": "2023-12-06T22:49:40.381449400Z",
     "start_time": "2023-12-06T22:49:40.299546600Z"
    }
   },
   "id": "4cfa8bcc62142f0a"
  },
  {
   "cell_type": "markdown",
   "source": [
    "#### Obtain the corresponding interactions data"
   ],
   "metadata": {
    "collapsed": false
   },
   "id": "510221193b2f3f45"
  },
  {
   "cell_type": "code",
   "execution_count": 0,
   "outputs": [],
   "source": [
    "# Create user_items DF and get/store the corresponding recipe index alongside each interaction\n",
    "user_items = interactions[[\"user_id\", \"recipe_id\", \"rating\"]]\n",
    "recipe_id_index = recipes[\"id\"]\n",
    "recipe_index_map = {recipe_id: index for index, recipe_id in recipe_id_index.items()}\n",
    "user_items[\"recipe_idx\"] = user_items[\"recipe_id\"].map(recipe_index_map)"
   ],
   "metadata": {
    "collapsed": false
   },
   "id": "25bab67eab541740"
  },
  {
   "cell_type": "code",
   "execution_count": 39,
   "outputs": [],
   "source": [
    "# Get recipe_ids corresponding to each of the data splits\n",
    "train_ids = recipe_id_index.loc[indices_train]\n",
    "val_ids = recipe_id_index.loc[indices_val]\n",
    "test_ids = recipe_id_index.loc[indices_test]"
   ],
   "metadata": {
    "collapsed": false,
    "ExecuteTime": {
     "start_time": "2023-12-06T23:58:33.016251500Z"
    }
   },
   "id": "12556805382932b2"
  },
  {
   "cell_type": "code",
   "execution_count": 37,
   "outputs": [
    {
     "data": {
      "text/plain": "0    137739\n1     31490\n2    112140\n3     59389\n4     44061\nName: id, dtype: int64"
     },
     "execution_count": 37,
     "metadata": {},
     "output_type": "execute_result"
    }
   ],
   "source": [
    "# Split the user_items dataframe by the same item-level splits as items_features\n",
    "user_items_train = user_items[user_items[\"recipe_id\"].isin(train_ids)]\n",
    "user_items_val = user_items[user_items[\"recipe_id\"].isin(val_ids)]\n",
    "user_items_test = user_items[user_items[\"recipe_id\"].isin(test_ids)]"
   ],
   "metadata": {
    "collapsed": false,
    "ExecuteTime": {
     "end_time": "2023-12-06T23:51:52.176220Z",
     "start_time": "2023-12-06T23:51:52.164621900Z"
    }
   },
   "id": "26c079404dadc244"
  },
  {
   "cell_type": "code",
   "execution_count": null,
   "outputs": [],
   "source": [
    "# Calculate and store an index for each user, and append it to user_items dataframe\n",
    "user_id_index = user_items[\"user_id\"].unique()\n",
    "user_index_map = {user_id: index for index, user_id in enumerate(user_id_index)}\n",
    "user_items[\"user_idx\"] = user_items[\"user_id\"].map(user_index_map)"
   ],
   "metadata": {
    "collapsed": false
   },
   "id": "57aa67ef7687ba39"
  }
 ],
 "metadata": {
  "kernelspec": {
   "display_name": "Python 3",
   "language": "python",
   "name": "python3"
  },
  "language_info": {
   "codemirror_mode": {
    "name": "ipython",
    "version": 2
   },
   "file_extension": ".py",
   "mimetype": "text/x-python",
   "name": "python",
   "nbconvert_exporter": "python",
   "pygments_lexer": "ipython2",
   "version": "2.7.6"
  }
 },
 "nbformat": 4,
 "nbformat_minor": 5
}
