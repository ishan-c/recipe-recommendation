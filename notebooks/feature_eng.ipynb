{
 "cells": [
  {
   "cell_type": "markdown",
   "source": [
    "# Feature Engineering\n",
    "\n",
    "Placeholder text"
   ],
   "metadata": {
    "collapsed": false
   },
   "id": "918669ad6b0915ca"
  },
  {
   "cell_type": "markdown",
   "source": [
    "### Load Data"
   ],
   "metadata": {
    "collapsed": false
   },
   "id": "fb1a5d36e8a8d9b6"
  },
  {
   "cell_type": "markdown",
   "source": [
    "#### Import Libraries"
   ],
   "metadata": {
    "collapsed": false
   },
   "id": "6707d3efd4ca86f4"
  },
  {
   "cell_type": "code",
   "execution_count": 1,
   "outputs": [],
   "source": [
    "import os\n",
    "\n",
    "from pyspark.sql import SparkSession\n",
    "from pyspark.sql.functions import col, sum, when"
   ],
   "metadata": {
    "collapsed": false,
    "ExecuteTime": {
     "end_time": "2023-10-23T20:04:39.094221500Z",
     "start_time": "2023-10-23T20:04:38.998680400Z"
    }
   },
   "id": "99d0c054d50727ec"
  },
  {
   "cell_type": "code",
   "execution_count": 2,
   "outputs": [],
   "source": [
    "PREPROCESS_DATA_PATH = r\"..\\data\\preprocess\"\n",
    "RECIPES_FILE = \"recipes_eda.parquet\"\n",
    "INTERACTIONS_FILE = \"interactions_eda.parquet\"\n",
    "\n",
    "path_recipes = os.path.join(PREPROCESS_DATA_PATH, RECIPES_FILE)\n",
    "path_interactions = os.path.join(PREPROCESS_DATA_PATH, INTERACTIONS_FILE)\n",
    "\n",
    "spark = SparkSession.builder.getOrCreate()\n",
    "\n",
    "recipes = spark.read.parquet(path_recipes)\n",
    "interactions = spark.read.parquet(path_interactions)"
   ],
   "metadata": {
    "collapsed": false,
    "ExecuteTime": {
     "end_time": "2023-10-23T20:05:06.487673600Z",
     "start_time": "2023-10-23T20:04:58.512472300Z"
    }
   },
   "id": "37bc582741ea34ed"
  },
  {
   "cell_type": "markdown",
   "source": [
    "Before proceeding, check dataframes for any unexpected behavior during import"
   ],
   "metadata": {
    "collapsed": false
   },
   "id": "3f1ea14ca6771a94"
  },
  {
   "cell_type": "code",
   "execution_count": 3,
   "outputs": [
    {
     "name": "stdout",
     "output_type": "stream",
     "text": [
      "root\n",
      " |-- name: string (nullable = true)\n",
      " |-- id: long (nullable = true)\n",
      " |-- minutes: long (nullable = true)\n",
      " |-- contributor_id: long (nullable = true)\n",
      " |-- submitted: timestamp_ntz (nullable = true)\n",
      " |-- tags: array (nullable = true)\n",
      " |    |-- element: string (containsNull = true)\n",
      " |-- n_steps: long (nullable = true)\n",
      " |-- steps: array (nullable = true)\n",
      " |    |-- element: string (containsNull = true)\n",
      " |-- description: string (nullable = true)\n",
      " |-- ingredients: array (nullable = true)\n",
      " |    |-- element: string (containsNull = true)\n",
      " |-- n_ingredients: long (nullable = true)\n",
      " |-- calories: double (nullable = true)\n",
      " |-- total_fat_pdv: double (nullable = true)\n",
      " |-- sugar_pdv: double (nullable = true)\n",
      " |-- sodium_pdv: double (nullable = true)\n",
      " |-- protein_pdv: double (nullable = true)\n",
      " |-- saturated_fat_pdv: double (nullable = true)\n",
      " |-- carbohydrates_pdv: double (nullable = true)\n",
      " |-- average_rating: double (nullable = true)\n",
      " |-- interaction_count: long (nullable = true)\n",
      " |-- description_word_count: double (nullable = true)\n",
      " |-- steps_word_count: long (nullable = true)\n",
      " |-- avg_step_word_count: double (nullable = true)\n",
      " |-- review_word_count: double (nullable = true)\n",
      " |-- review_sentiment: double (nullable = true)\n",
      " |-- description_sentiment: double (nullable = true)\n",
      "\n",
      "root\n",
      " |-- user_id: long (nullable = true)\n",
      " |-- recipe_id: long (nullable = true)\n",
      " |-- date: timestamp_ntz (nullable = true)\n",
      " |-- rating: long (nullable = true)\n",
      " |-- review: string (nullable = true)\n",
      " |-- review_word_count: double (nullable = true)\n",
      " |-- review_sentiment: double (nullable = true)\n",
      " |-- __index_level_0__: long (nullable = true)\n"
     ]
    }
   ],
   "source": [
    "# Check schemas\n",
    "recipes.printSchema()\n",
    "interactions.printSchema()"
   ],
   "metadata": {
    "collapsed": false,
    "ExecuteTime": {
     "end_time": "2023-10-23T20:05:08.910621500Z",
     "start_time": "2023-10-23T20:05:08.894519Z"
    }
   },
   "id": "a9598c1d500aa30d"
  },
  {
   "cell_type": "markdown",
   "source": [],
   "metadata": {
    "collapsed": false
   },
   "id": "f0818b5fcea3e47b"
  },
  {
   "cell_type": "code",
   "execution_count": 4,
   "outputs": [
    {
     "name": "stdout",
     "output_type": "stream",
     "text": [
      "-RECORD 0--------------------------------------\n",
      " name                   | arriba   baked wi... \n",
      " id                     | 137739               \n",
      " minutes                | 55                   \n",
      " contributor_id         | 47892                \n",
      " submitted              | 2005-09-16 00:00:00  \n",
      " tags                   | [60-minutes-or-le... \n",
      " n_steps                | 11                   \n",
      " steps                  | [make a choice an... \n",
      " description            | autumn is my favo... \n",
      " ingredients            | [winter squash, m... \n",
      " n_ingredients          | 7                    \n",
      " calories               | 51.5                 \n",
      " total_fat_pdv          | 0.0                  \n",
      " sugar_pdv              | 13.0                 \n",
      " sodium_pdv             | 0.0                  \n",
      " protein_pdv            | 2.0                  \n",
      " saturated_fat_pdv      | 0.0                  \n",
      " carbohydrates_pdv      | 4.0                  \n",
      " average_rating         | 5.0                  \n",
      " interaction_count      | 3                    \n",
      " description_word_count | 32.0                 \n",
      " steps_word_count       | 135                  \n",
      " avg_step_word_count    | 12.272727272727273   \n",
      " review_word_count      | 44.0                 \n",
      " review_sentiment       | 0.3330952380952381   \n",
      " description_sentiment  | 0.53125              \n",
      "only showing top 1 row\n",
      "+-------+---------+-------------------+------+--------------------+-----------------+-------------------+-----------------+\n",
      "|user_id|recipe_id|               date|rating|              review|review_word_count|   review_sentiment|__index_level_0__|\n",
      "+-------+---------+-------------------+------+--------------------+-----------------+-------------------+-----------------+\n",
      "|  38094|    40893|2003-02-17 00:00:00|     4|Great with a sala...|             27.0|0.26999999999999996|                0|\n",
      "+-------+---------+-------------------+------+--------------------+-----------------+-------------------+-----------------+\n",
      "only showing top 1 row\n"
     ]
    }
   ],
   "source": [
    "# Check first entry of both dataframes\n",
    "recipes.show(n=1, vertical=True)\n",
    "interactions.show(n=1)"
   ],
   "metadata": {
    "collapsed": false,
    "ExecuteTime": {
     "end_time": "2023-10-23T20:05:25.838700Z",
     "start_time": "2023-10-23T20:05:23.286577Z"
    }
   },
   "id": "a35c0e08b62080d2"
  },
  {
   "cell_type": "code",
   "execution_count": 6,
   "outputs": [
    {
     "name": "stdout",
     "output_type": "stream",
     "text": [
      "+-------+--------------------+------------------+------------------+-------------------+-----------------+--------------------+------------------+-----------------+-----------------+-----------------+------------------+------------------+-----------------+------------------+------------------+------------------+----------------------+------------------+-------------------+------------------+-------------------+---------------------+\n",
      "|summary|                name|                id|           minutes|     contributor_id|          n_steps|         description|     n_ingredients|         calories|    total_fat_pdv|        sugar_pdv|        sodium_pdv|       protein_pdv|saturated_fat_pdv| carbohydrates_pdv|    average_rating| interaction_count|description_word_count|  steps_word_count|avg_step_word_count| review_word_count|   review_sentiment|description_sentiment|\n",
      "+-------+--------------------+------------------+------------------+-------------------+-----------------+--------------------+------------------+-----------------+-----------------+-----------------+------------------+------------------+-----------------+------------------+------------------+------------------+----------------------+------------------+-------------------+------------------+-------------------+---------------------+\n",
      "|  count|              231635|            231636|            231636|             231636|           231636|              226657|            231636|           231636|           231636|           231636|            231636|            231636|           231636|            231636|            231636|            231636|                226657|            231636|             231635|            231629|             231629|               226657|\n",
      "|   mean|                null|222013.73353882815|123.10772073425547|  5534906.520752387|9.765502771589908|              2013.0|  9.05118375382065|473.9427118409964|36.08060923172564|84.29701341760348|30.147610906767515|34.681979485054136|45.58885061044052|15.560448289557755| 4.346243251523284| 4.888553592705797|     36.38568850730399|102.08145538690013| 10.422033807070541|53.680937418546605|0.32360118182093744|   0.2813193528475307|\n",
      "| stddev|                null|141206.16000500997|1977.7636460170647|9.979162308839794E7|5.995140742292918|                null|3.7347750614604593|  1189.7139343032|77.79899555070601|800.0826207546047|131.96185966446444|58.472578324808225|98.23586417556709|  81.8247333812429|0.9908075212227495|17.532518194882066|    32.226113867629536| 73.94874060578984| 3.5262119190568555|30.019055080189815| 0.1734359467488592|   0.2711455610055002|\n",
      "|    min|0 carb   0 cal gu...|                38|                 0|                 27|                0|                 ...|                 1|              0.0|              0.0|              0.0|               0.0|               0.0|              0.0|               0.0|               0.0|                 1|                   0.0|                 0|                1.0|               1.0|               -1.0|                 -1.0|\n",
      "|    25%|                null|             99958|                20|              56950|                6|              2013.0|                 6|            174.4|              8.0|              9.0|               5.0|               7.0|              7.0|               4.0|               4.0|                 1|                  15.0|                54|                8.0|35.285714285714285|0.22643494897959185|  0.07416666666666666|\n",
      "|    50%|                null|            207208|                40|             173614|                9|              2013.0|                 9|            313.5|             20.0|             25.0|              14.0|              18.0|             23.0|               9.0| 4.714285714285714|                 2|                  28.0|                86|               10.0|              49.0|0.32108262108262103|   0.2666666666666667|\n",
      "|    75%|                null|            333785|                65|             398275|               12|              2013.0|                11|            519.7|             41.0|             68.0|              33.0|              51.0|             52.0|              16.0|               5.0|                 4|                  48.0|               130|              12.25|              65.5| 0.4132123015873016|  0.44833333333333336|\n",
      "|    max|zydeco ya ya devi...|            537716|            288000|         2002289981|              145|”homemade lasagna...|                43|         434360.2|          17183.0|         362729.0|           29338.0|            6552.0|          10395.0|           36098.0|               5.0|              1613|                1168.0|              2246|              150.0|             784.0|                1.0|                  1.0|\n",
      "+-------+--------------------+------------------+------------------+-------------------+-----------------+--------------------+------------------+-----------------+-----------------+-----------------+------------------+------------------+-----------------+------------------+------------------+------------------+----------------------+------------------+-------------------+------------------+-------------------+---------------------+\n"
     ]
    }
   ],
   "source": [
    "# Summary statistics, counts of recipe dataframe\n",
    "recipes.summary().show()"
   ],
   "metadata": {
    "collapsed": false,
    "ExecuteTime": {
     "end_time": "2023-10-23T20:11:59.012756200Z",
     "start_time": "2023-10-23T20:11:49.960664400Z"
    }
   },
   "id": "4b6b38d616171fd7"
  },
  {
   "cell_type": "code",
   "execution_count": 7,
   "outputs": [
    {
     "name": "stdout",
     "output_type": "stream",
     "text": [
      "+-------+--------------------+------------------+------------------+--------------------+------------------+-------------------+-----------------+\n",
      "|summary|             user_id|         recipe_id|            rating|              review| review_word_count|   review_sentiment|__index_level_0__|\n",
      "+-------+--------------------+------------------+------------------+--------------------+------------------+-------------------+-----------------+\n",
      "|  count|             1132365|           1132365|           1132365|             1132196|           1132196|            1132196|          1132365|\n",
      "|   mean|1.3842931051382372E8|160896.70114406574| 4.411014999580524|                20.0| 52.02219492031415| 0.3329295339209602|566183.4841716231|\n",
      "| stddev|5.0142727313740426E8|130398.27670415681|1.2647527152948626|  40.195356282370064|37.140061463398574|0.22963089862414507|326886.4261336108|\n",
      "|    min|                1533|                38|                 0|\\t\\tThis is good,...|               0.0|               -1.0|                0|\n",
      "|    25%|              135470|             54257|                 4|                 4.0|              27.0| 0.1918181818181818|           283060|\n",
      "|    50%|              330889|            120547|                 5|                 5.0|              44.0| 0.3184573002754821|           566165|\n",
      "|    75%|              804329|            243813|                 5|                 9.0|              67.0|0.46119047619047626|           849192|\n",
      "|    max|          2002372706|            537716|                 5|���������������� ...|            1182.0|                1.0|          1132366|\n",
      "+-------+--------------------+------------------+------------------+--------------------+------------------+-------------------+-----------------+\n"
     ]
    }
   ],
   "source": [
    "# Same for interactions\n",
    "interactions.summary().show()"
   ],
   "metadata": {
    "collapsed": false,
    "ExecuteTime": {
     "end_time": "2023-10-23T20:12:20.034823800Z",
     "start_time": "2023-10-23T20:11:59.016381400Z"
    }
   },
   "id": "aeb695a8f6c5cb3"
  },
  {
   "cell_type": "code",
   "execution_count": 9,
   "outputs": [
    {
     "name": "stdout",
     "output_type": "stream",
     "text": [
      "+----+---+-------+--------------+---------+----+-------+-----+-----------+-----------+-------------+--------+-------------+---------+----------+-----------+-----------------+-----------------+--------------+-----------------+----------------------+----------------+-------------------+-----------------+----------------+---------------------+\n",
      "|name| id|minutes|contributor_id|submitted|tags|n_steps|steps|description|ingredients|n_ingredients|calories|total_fat_pdv|sugar_pdv|sodium_pdv|protein_pdv|saturated_fat_pdv|carbohydrates_pdv|average_rating|interaction_count|description_word_count|steps_word_count|avg_step_word_count|review_word_count|review_sentiment|description_sentiment|\n",
      "+----+---+-------+--------------+---------+----+-------+-----+-----------+-----------+-------------+--------+-------------+---------+----------+-----------+-----------------+-----------------+--------------+-----------------+----------------------+----------------+-------------------+-----------------+----------------+---------------------+\n",
      "|   1|  0|      0|             0|        0|   0|      0|    0|       4979|          0|            0|       0|            0|        0|         0|          0|                0|                0|             0|                0|                  4979|               0|                  1|                7|               7|                 4979|\n",
      "+----+---+-------+--------------+---------+----+-------+-----+-----------+-----------+-------------+--------+-------------+---------+----------+-----------+-----------------+-----------------+--------------+-----------------+----------------------+----------------+-------------------+-----------------+----------------+---------------------+\n"
     ]
    }
   ],
   "source": [
    "# Check for nulls in recipes\n",
    "recipes.select(*(sum(when(col(c).isNull(), 1).otherwise(0)).alias(c) for c in recipes.columns)).show()"
   ],
   "metadata": {
    "collapsed": false,
    "ExecuteTime": {
     "end_time": "2023-10-23T20:13:17.879698400Z",
     "start_time": "2023-10-23T20:13:16.500744200Z"
    }
   },
   "id": "92e33b7f26a7256b"
  },
  {
   "cell_type": "code",
   "execution_count": 10,
   "outputs": [
    {
     "name": "stdout",
     "output_type": "stream",
     "text": [
      "+-------+---------+----+------+------+-----------------+----------------+-----------------+\n",
      "|user_id|recipe_id|date|rating|review|review_word_count|review_sentiment|__index_level_0__|\n",
      "+-------+---------+----+------+------+-----------------+----------------+-----------------+\n",
      "|      0|        0|   0|     0|   169|              169|             169|                0|\n",
      "+-------+---------+----+------+------+-----------------+----------------+-----------------+\n"
     ]
    }
   ],
   "source": [
    "# Check nulls in interactions\n",
    "interactions.select(*(sum(when(col(c).isNull(), 1).otherwise(0)).alias(c) for c in interactions.columns)).show()"
   ],
   "metadata": {
    "collapsed": false,
    "ExecuteTime": {
     "end_time": "2023-10-23T20:13:19.225002Z",
     "start_time": "2023-10-23T20:13:17.883906Z"
    }
   },
   "id": "118e2ca743bed02a"
  },
  {
   "cell_type": "markdown",
   "source": [
    "### Baseline Features and Models"
   ],
   "metadata": {
    "collapsed": false
   },
   "id": "68b6075b56e23364"
  },
  {
   "cell_type": "markdown",
   "source": [
    "#### Baseline Features"
   ],
   "metadata": {
    "collapsed": false
   },
   "id": "333ebee0f87e1eaf"
  },
  {
   "cell_type": "code",
   "execution_count": null,
   "outputs": [],
   "source": [],
   "metadata": {
    "collapsed": false
   },
   "id": "e743cadc8fa5a71c"
  }
 ],
 "metadata": {
  "kernelspec": {
   "display_name": "Python 3",
   "language": "python",
   "name": "python3"
  },
  "language_info": {
   "codemirror_mode": {
    "name": "ipython",
    "version": 2
   },
   "file_extension": ".py",
   "mimetype": "text/x-python",
   "name": "python",
   "nbconvert_exporter": "python",
   "pygments_lexer": "ipython2",
   "version": "2.7.6"
  }
 },
 "nbformat": 4,
 "nbformat_minor": 5
}
